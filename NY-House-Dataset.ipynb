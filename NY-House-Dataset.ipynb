{
  "metadata": {
    "kernelspec": {
      "name": "python",
      "display_name": "Python (Pyodide)",
      "language": "python"
    },
    "language_info": {
      "name": ""
    }
  },
  "nbformat_minor": 4,
  "nbformat": 4,
  "cells": [
    {
      "cell_type": "code",
      "source": "import pandas as pd\nimport numpy as np\nimport matplotlib.pyplot as plt\nimport seaborn as sns\n",
      "metadata": {
        "trusted": true
      },
      "outputs": [],
      "execution_count": null
    },
    {
      "cell_type": "code",
      "source": "# Load the dataset\ndata = pd.read_csv('NY-House-Dataset.csv')\n\n# Display the first few rows of the dataset\ndata.head()\n",
      "metadata": {
        "trusted": true
      },
      "outputs": [],
      "execution_count": null
    },
    {
      "cell_type": "code",
      "source": "# Get an overview of the dataset\nprint(data.info())\n\n# Check for missing values\nprint(data.isnull().sum())\n",
      "metadata": {
        "trusted": true
      },
      "outputs": [],
      "execution_count": null
    },
    {
      "cell_type": "code",
      "source": "print(df.describe())\n",
      "metadata": {
        "trusted": true
      },
      "outputs": [],
      "execution_count": null
    },
    {
      "cell_type": "code",
      "source": "# Plot the distribution of house prices\nplt.figure(figsize=(10, 6))\nsns.histplot(data['Price'], bins=30, kde=True)\nplt.title('Distribution of House Prices in NY')\nplt.xlabel('Price')\nplt.ylabel('Frequency')\nplt.show()\n",
      "metadata": {
        "trusted": true
      },
      "outputs": [],
      "execution_count": null
    },
    {
      "cell_type": "code",
      "source": "# Plot a heatmap to visualize the correlation between features\nplt.figure(figsize=(12, 8))\ncorrelation_matrix = data.corr()\nsns.heatmap(correlation_matrix, annot=True, cmap='coolwarm', fmt='.2f')\nplt.title('Correlation Heatmap of NY House Features')\nplt.show()\n",
      "metadata": {
        "trusted": true
      },
      "outputs": [],
      "execution_count": null
    },
    {
      "cell_type": "code",
      "source": "# Box plot for house prices based on neighborhood\nplt.figure(figsize=(12, 6))\nsns.boxplot(x='Neighborhood', y='Price', data=data)\nplt.title('House Prices by Neighborhood in NY')\nplt.xticks(rotation=45)\nplt.show()\n",
      "metadata": {
        "trusted": true
      },
      "outputs": [],
      "execution_count": null
    },
    {
      "cell_type": "markdown",
      "source": "# Insights and Conclusions\n1. The distribution of house prices shows a right skew, indicating that most houses are priced lower, with a few high-value outliers typical in urban areas like New York.\n2. The correlation heatmap indicates strong positive correlations between the number of bedrooms and price, suggesting that larger homes tend to be more expensive.\n3. The box plot highlights that certain neighborhoods have significantly higher median prices compared to others, pointing towards the influence of location on real estate pricing in New York.\n",
      "metadata": {}
    },
    {
      "cell_type": "code",
      "source": "",
      "metadata": {
        "trusted": true
      },
      "outputs": [],
      "execution_count": null
    }
  ]
}